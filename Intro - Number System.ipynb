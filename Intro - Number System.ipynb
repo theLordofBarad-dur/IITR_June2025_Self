{
 "cells": [
  {
   "cell_type": "code",
   "execution_count": 1,
   "metadata": {},
   "outputs": [
    {
     "data": {
      "text/plain": [
       "2"
      ]
     },
     "execution_count": 1,
     "metadata": {},
     "output_type": "execute_result"
    }
   ],
   "source": [
    "1+1"
   ]
  },
  {
   "cell_type": "markdown",
   "metadata": {},
   "source": [
    "#Create a number system\n",
    "\n",
    "Choose a number between 3 and 13 except for 10."
   ]
  },
  {
   "cell_type": "code",
   "execution_count": 4,
   "metadata": {},
   "outputs": [
    {
     "data": {
      "text/plain": [
       "110"
      ]
     },
     "execution_count": 4,
     "metadata": {},
     "output_type": "execute_result"
    }
   ],
   "source": [
    "#Base 10\n",
    "\n",
    "#We have 10 symbols - 0,1,.....9, 10\n",
    "\n",
    "#Base 5\n",
    "0\n",
    "1\n",
    "2\n",
    "3\n",
    "4\n",
    "10\n",
    "11\n",
    "12\n",
    "13\n",
    "14\n",
    "20\n",
    "21\n",
    "22\n",
    "23\n",
    "24\n",
    "30\n",
    "31\n",
    "32\n",
    "33\n",
    "34\n",
    "40\n",
    "41\n",
    "42\n",
    "43\n",
    "44\n",
    "100\n",
    "101\n",
    "102\n",
    "103\n",
    "104\n",
    "110"
   ]
  },
  {
   "cell_type": "code",
   "execution_count": 5,
   "metadata": {},
   "outputs": [
    {
     "ename": "SyntaxError",
     "evalue": "invalid syntax (<ipython-input-5-aa6c8775c2a1>, line 2)",
     "output_type": "error",
     "traceback": [
      "\u001b[0;36m  File \u001b[0;32m\"<ipython-input-5-aa6c8775c2a1>\"\u001b[0;36m, line \u001b[0;32m2\u001b[0m\n\u001b[0;31m    0, 1, 2, 3, ..... 9, A, B, C, D, 10, 11, 12...\u001b[0m\n\u001b[0m                    ^\u001b[0m\n\u001b[0;31mSyntaxError\u001b[0m\u001b[0;31m:\u001b[0m invalid syntax\n"
     ]
    }
   ],
   "source": [
    "#Base 14\n",
    "0, 1, 2, 3, ..... 9, A, B, C, D, 10, 11, 12..."
   ]
  },
  {
   "cell_type": "code",
   "execution_count": 6,
   "metadata": {},
   "outputs": [
    {
     "ename": "SyntaxError",
     "evalue": "invalid syntax (<ipython-input-6-82cd51f43f96>, line 5)",
     "output_type": "error",
     "traceback": [
      "\u001b[0;36m  File \u001b[0;32m\"<ipython-input-6-82cd51f43f96>\"\u001b[0;36m, line \u001b[0;32m5\u001b[0m\n\u001b[0;31m    0,1,....9, A......Z, a.....z, _=10.....1_\u001b[0m\n\u001b[0m            ^\u001b[0m\n\u001b[0;31mSyntaxError\u001b[0m\u001b[0;31m:\u001b[0m invalid syntax\n"
     ]
    }
   ],
   "source": [
    "#base 64\n",
    "\n",
    "Letters, numbers, _\n",
    "\n",
    "0,1,....9, A......Z, a.....z, _=10.....1_"
   ]
  },
  {
   "cell_type": "code",
   "execution_count": null,
   "metadata": {},
   "outputs": [],
   "source": [
    "#Base 12 - #base 10\n",
    "0 \n",
    "1\n",
    "2\n",
    "3\n",
    "4\n",
    "5\n",
    "6\n",
    "7\n",
    "8\n",
    "9\n",
    "A\n",
    "B\n",
    "...\n",
    "10\n",
    "11\n",
    "12\n",
    "13\n",
    "14\n",
    "15\n",
    "16\n",
    "17\n",
    "18\n",
    "19\n",
    "1A\n",
    "1B\n",
    "...\n",
    "20\n",
    "21\n",
    "22\n",
    "23\n",
    "24\n",
    "25\n",
    "26\n",
    "27\n",
    "28\n",
    "29\n",
    "2A\n",
    "2B\n",
    "...\n",
    "30\n",
    "31\n",
    "32\n",
    "33\n",
    "34\n",
    "35\n",
    "36\n",
    "37\n",
    "38\n",
    "39\n",
    "3A\n",
    "3B\n",
    "...\n",
    "40\n",
    "41 \n",
    "42 \n",
    "43 \n",
    "44\n",
    "45\n",
    "46\n",
    "47\n",
    "48\n",
    "49\n",
    "4A\n",
    "4B\n"
   ]
  },
  {
   "cell_type": "markdown",
   "metadata": {},
   "source": [
    " Multiple digit addition\n"
   ]
  },
  {
   "cell_type": "code",
   "execution_count": null,
   "metadata": {},
   "outputs": [],
   "source": [
    "#Base 12 Addition:\n",
    "1+2 = 3\n",
    "3+4 = 7\n",
    "7+8 = 13\n",
    "13+16 = 29\n",
    "33+48 = 7B\n",
    "196+87 = 261\n",
    "1648+837 = 2283\n",
    "4397+7862 = 10039"
   ]
  },
  {
   "cell_type": "markdown",
   "metadata": {},
   "source": [
    "Multiplication in Base 12 "
   ]
  },
  {
   "cell_type": "code",
   "execution_count": null,
   "metadata": {},
   "outputs": [],
   "source": [
    "1 | 2| 3| 4| 5| 6| 7| 8| 9| A| B\n",
    "2 | 4| 6| 8| A|10|12|14|16|18|1A\n",
    "3 | 6| 9|10|13|16|19|20|23|26|29\n",
    "4 | 8|10|14|18|1B|24|28|30|34|38\n",
    "5 | A|13|18|21|25|2B|34|39|42|47\n",
    "6 |10|16|20|26|2B|36|40|46|50|56\n",
    "7 |12|19|24|2B|35|41|48|53|5A|65\n",
    "8 |14|20|28|34|3B|48|54|60|68|74\n",
    "9 |16|23|30|39|45|53|60|69|76|83\n",
    "A |18|26|34|42|4B|5A|68|76|84|92\n",
    "B |1A|29|38|47|55|65|74|83|92|A1"
   ]
  },
  {
   "cell_type": "markdown",
   "metadata": {},
   "source": [
    "1. Multiply multiple digits\n",
    "2. Convert 1, 10, 20, 30, 100 from base 12 to base 10(for example: base 12 for 43 would be 4 * 12 + 3 = 51(base 10), base 10 for 324 would be 3 * 12^2 + 2*12 + 4 = 460)\n",
    "3. Write a strategy to convert a number in base 12 to base 10 in plain english or code\n",
    "4. Write a strategy to convert a number in base N to base M in plain english or code."
   ]
  },
  {
   "cell_type": "code",
   "execution_count": 43,
   "metadata": {},
   "outputs": [
    {
     "ename": "SyntaxError",
     "evalue": "invalid syntax (<ipython-input-43-5373c8acb09b>, line 3)",
     "output_type": "error",
     "traceback": [
      "\u001b[0;36m  File \u001b[0;32m\"<ipython-input-43-5373c8acb09b>\"\u001b[0;36m, line \u001b[0;32m3\u001b[0m\n\u001b[0;31m    a. In base 10:\u001b[0m\n\u001b[0m             ^\u001b[0m\n\u001b[0;31mSyntaxError\u001b[0m\u001b[0;31m:\u001b[0m invalid syntax\n"
     ]
    }
   ],
   "source": [
    "#multiply multiple digits in Base 12 \n",
    "\n",
    "a. In base 10:\n",
    "    276 * 598 = 165048\n",
    "\n",
    "    Convert to base 12:\n",
    "    165048 //12 = 13754 (quotient), 0 (remainder)\n",
    "    13754 // 12 = 1146 (quotient), 2 (remainder)\n",
    "    1146 // 12 = 95 (quotient), 6 (remainder)\n",
    "    95 // 12 = 7 (quotient),11(B) (remainder)\n",
    "    7 // 12 = 7\n",
    "    Number = 7B620\n",
    "    \n",
    "b. In base 10:\n",
    "    765 * 634 = 485010\n",
    "    \n",
    "    Convert to base 12:\n",
    "    485010 // 12 = 40417 (quotient), 6 (remainder)\n",
    "    40417 // 12 = 3368 (quotient), 1 (remainder)\n",
    "    3368 // 12 = 280 (quotient), 8 (remainder)\n",
    "    280 // 12 = 23 (quotient), 4 (remainder)\n",
    "    23 // 12 = 1 (quotient), 11(B) (remainder)\n",
    "    1 // 12 = 0 (quotient), 1 (remainder)\n",
    "    Number = 1B4816\n",
    "    \n",
    "c. In base 10:\n",
    "    A1 * 4B = (A = 10, 10 * 12 + 1 = 121) * (B = 11, 4 * 12 + 11 = 59)\n",
    "    121 * 59 = 7139 \n",
    "    \n",
    "    Convert to base 12: \n",
    "    7139 // 12 = 594 (quotient), 11(B) (remainder)\n",
    "    594 // 12 = 49 (quotient), 6 (remainder)\n",
    "    49 // 12 = 4 (quotient), 1 (remainder)\n",
    "    4 // 12 = 0 (quotient), 4 (remainder)\n",
    "    NUmber = 416B\n",
    "    "
   ]
  },
  {
   "cell_type": "code",
   "execution_count": 14,
   "metadata": {},
   "outputs": [],
   "source": [
    "#convert from base 10 to base 12\n",
    "\n",
    "base 12 ---> base 10\n",
    "\n",
    "1 ---> 1 \n",
    "B ---> (B = 11, 1 *12 + 1 = 13) \n",
    "1B --->(1 * 12 + 11 = 23)\n",
    "2B --->(2 * 12 + 11 = 35)\n",
    "3B --->(3 * 12 + 11 = 47)\n",
    "4B --->(4 * 12 + 11 = 59)\n",
    "A1 --->(A = 10, 10 * 12 + 1 = 121 )\n"
   ]
  },
  {
   "cell_type": "code",
   "execution_count": 46,
   "metadata": {},
   "outputs": [
    {
     "ename": "SyntaxError",
     "evalue": "invalid syntax (<ipython-input-46-d402c7604923>, line 5)",
     "output_type": "error",
     "traceback": [
      "\u001b[0;36m  File \u001b[0;32m\"<ipython-input-46-d402c7604923>\"\u001b[0;36m, line \u001b[0;32m5\u001b[0m\n\u001b[0;31m    Step 1: 5 * 12 ^ 2 = 720\u001b[0m\n\u001b[0m         ^\u001b[0m\n\u001b[0;31mSyntaxError\u001b[0m\u001b[0;31m:\u001b[0m invalid syntax\n"
     ]
    }
   ],
   "source": [
    "#strategy to convert a number in base 12 to base 10\n",
    "\n",
    "num = 598\n",
    "\n",
    "Step 1: 5 * 12 ^ 2 = 720\n",
    "Step 2: 9 * 12 = 108  \n",
    "Step 3: add ones place value i.e. 8\n",
    "    \n",
    "    so, 720 + 108 + 8 = 836\n"
   ]
  },
  {
   "cell_type": "code",
   "execution_count": 50,
   "metadata": {},
   "outputs": [
    {
     "ename": "SyntaxError",
     "evalue": "invalid syntax (<ipython-input-50-ac68147c740a>, line 3)",
     "output_type": "error",
     "traceback": [
      "\u001b[0;36m  File \u001b[0;32m\"<ipython-input-50-ac68147c740a>\"\u001b[0;36m, line \u001b[0;32m3\u001b[0m\n\u001b[0;31m    digits in base N:\u001b[0m\n\u001b[0m                   ^\u001b[0m\n\u001b[0;31mSyntaxError\u001b[0m\u001b[0;31m:\u001b[0m invalid syntax\n"
     ]
    }
   ],
   "source": [
    "#convert a number in base N to base M\n",
    "\n",
    "digits in base N: \n",
    "    d5d4d3d2d1d0\n",
    "    \n",
    "    which means,\n",
    "    \n",
    "    d5 * N^5 + d4 * N^4 + d3 * N^3 + d2 * N^2 + d1 * N^1 + d0 * N^0\n",
    "    \n",
    "convert to base 10(M being 10) from base N(N being 12):\n",
    "    564 = 5 * 12^2 + 6 * 12^1 + 4 * 12^0 = 720 + 72 + 4 = 796\n",
    "    "
   ]
  },
  {
   "cell_type": "code",
   "execution_count": 49,
   "metadata": {},
   "outputs": [
    {
     "data": {
      "text/plain": [
       "1"
      ]
     },
     "execution_count": 49,
     "metadata": {},
     "output_type": "execute_result"
    }
   ],
   "source": [
    "12**0"
   ]
  },
  {
   "cell_type": "code",
   "execution_count": 45,
   "metadata": {},
   "outputs": [
    {
     "data": {
      "text/plain": [
       "836"
      ]
     },
     "execution_count": 45,
     "metadata": {},
     "output_type": "execute_result"
    }
   ],
   "source": [
    "720 + 108 + 8"
   ]
  },
  {
   "cell_type": "code",
   "execution_count": null,
   "metadata": {},
   "outputs": [],
   "source": []
  },
  {
   "cell_type": "code",
   "execution_count": null,
   "metadata": {},
   "outputs": [],
   "source": []
  },
  {
   "cell_type": "code",
   "execution_count": null,
   "metadata": {},
   "outputs": [],
   "source": []
  },
  {
   "cell_type": "code",
   "execution_count": null,
   "metadata": {},
   "outputs": [],
   "source": []
  }
 ],
 "metadata": {
  "kernelspec": {
   "display_name": "Python 3",
   "language": "python",
   "name": "python3"
  },
  "language_info": {
   "codemirror_mode": {
    "name": "ipython",
    "version": 3
   },
   "file_extension": ".py",
   "mimetype": "text/x-python",
   "name": "python",
   "nbconvert_exporter": "python",
   "pygments_lexer": "ipython3",
   "version": "3.6.8"
  },
  "toc": {
   "base_numbering": 1,
   "nav_menu": {},
   "number_sections": true,
   "sideBar": true,
   "skip_h1_title": false,
   "title_cell": "Table of Contents",
   "title_sidebar": "Contents",
   "toc_cell": false,
   "toc_position": {},
   "toc_section_display": true,
   "toc_window_display": false
  }
 },
 "nbformat": 4,
 "nbformat_minor": 2
}
